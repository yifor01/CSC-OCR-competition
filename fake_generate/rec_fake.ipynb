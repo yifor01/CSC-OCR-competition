{
 "cells": [
  {
   "cell_type": "code",
   "execution_count": 29,
   "metadata": {},
   "outputs": [],
   "source": [
    "import json\n",
    "import cv2\n",
    "import numpy as np\n",
    "import pandas as pd\n",
    "import matplotlib.pyplot as plt\n",
    "from tqdm import tqdm\n",
    "from glob import glob\n",
    "from trdg.generators import GeneratorFromStrings\n",
    "import time"
   ]
  },
  {
   "cell_type": "code",
   "execution_count": 3,
   "metadata": {},
   "outputs": [],
   "source": [
    "df1 = pd.read_csv('../data/public_training_data.csv')\n",
    "df2 = pd.read_csv('../data/public_valid_data.csv')"
   ]
  },
  {
   "cell_type": "code",
   "execution_count": 4,
   "metadata": {},
   "outputs": [],
   "source": [
    "fake_label = df1['label'].tolist() + df2['label'].tolist() \n",
    "fake_label = [x.strip() for x in fake_label if x.strip()]"
   ]
  },
  {
   "cell_type": "code",
   "execution_count": 5,
   "metadata": {},
   "outputs": [],
   "source": [
    "def random_space(txt):\n",
    "    txt_list = list(txt)\n",
    "    n_space = np.random.choice(range(3),1)[0]\n",
    "    space_idx = sorted(np.random.choice(range(1,len(txt)+1), min(n_space,len(txt)),replace=False))\n",
    "    pun_choice = np.random.choice([' ','-'],n_space)\n",
    "    for _idx,_pun in zip(space_idx,pun_choice):\n",
    "        txt_list.insert(_idx,_pun)\n",
    "    return ''.join(txt_list)"
   ]
  },
  {
   "cell_type": "code",
   "execution_count": 6,
   "metadata": {},
   "outputs": [],
   "source": [
    "fake_label = [random_space(x) for x in fake_label]"
   ]
  },
  {
   "cell_type": "code",
   "execution_count": 7,
   "metadata": {},
   "outputs": [],
   "source": [
    "fake_original_label = [x.replace(' ','').replace('-','') for x in fake_label]"
   ]
  },
  {
   "cell_type": "markdown",
   "metadata": {},
   "source": [
    "# generate target label"
   ]
  },
  {
   "cell_type": "code",
   "execution_count": 30,
   "metadata": {},
   "outputs": [],
   "source": [
    "font_use = glob('./font/*')"
   ]
  },
  {
   "cell_type": "markdown",
   "metadata": {},
   "source": [
    "### Double vision without background \n"
   ]
  },
  {
   "cell_type": "code",
   "execution_count": 31,
   "metadata": {},
   "outputs": [],
   "source": [
    "# 背景必須為黑色\n",
    "def generate_double(_img_array):\n",
    "    img_array = _img_array.copy()\n",
    "    img_array_180 = cv2.rotate(img_array,cv2.ROTATE_180)\n",
    "    \n",
    "    # 遮罩圖片\n",
    "    black_array = np.ones(img_array_180.shape,dtype=int)*1\n",
    "    random_alpha1 = np.random.normal(0.6,0.1,size=1)[0] # 180\n",
    "    random_alpha2 = np.random.normal(0.8,0.1,size=1)[0] # 0\n",
    "    img_array = (img_array*random_alpha2 +black_array*(1-random_alpha2)).astype('int')\n",
    "    img_array_180 = (img_array_180*random_alpha1 +black_array*(1-random_alpha1)).astype('int')\n",
    "    \n",
    "    # 位移圖片\n",
    "    randon_shift_x = np.random.choice([1.1,1.2],1)[0]\n",
    "    randon_shift_y = np.random.choice([1,1.2,1.3],1)[0]\n",
    "    #print(random_alpha1,random_alpha2,randon_shift_x,randon_shift_y)\n",
    "    padding_size =  (int(img_array.shape[0]*randon_shift_x),int(img_array.shape[1]*randon_shift_y),3)\n",
    "    null_mat = np.ones(padding_size,dtype=int)* img_array[0,0,0]\n",
    "    \n",
    "    # 合成圖片\n",
    "    random_kernel = np.random.choice([1,1,1,1,3,6,7,10],4)\n",
    "    random_position = np.random.choice([0,1],1)[0]\n",
    "    if random_position:\n",
    "        null_mat[:img_array.shape[0],:img_array.shape[1],:] = img_array\n",
    "        null_mat[-img_array_180.shape[0]:,-img_array_180.shape[1]:,:] += cv2.blur(img_array_180,tuple(random_kernel[:2]))\n",
    "    else:\n",
    "        null_mat[-img_array.shape[0]:,-img_array.shape[1]:,:] = img_array\n",
    "        null_mat[:img_array_180.shape[0],:img_array_180.shape[1],:] += cv2.blur(img_array_180,tuple(random_kernel[-2:]))\n",
    "        \n",
    "    return null_mat"
   ]
  },
  {
   "cell_type": "code",
   "execution_count": 32,
   "metadata": {},
   "outputs": [],
   "source": [
    "def rec_fake(n_sample=1,\n",
    "             font_size=50,\n",
    "             blur=1,\n",
    "             fonts=font_use,\n",
    "             character_spacing=10,\n",
    "             double_ratio=0.1,\n",
    "             reverse_ratio=0.1,\n",
    "             bright=0.1,\n",
    "             alpha=0.7\n",
    "            ):\n",
    "    '''\n",
    "    n_sample: >6 (font type)\n",
    "    font_size : 30-50\n",
    "    blur: 1-6\n",
    "    character_spacing: 10-30\n",
    "    double_ratio : 0.1-0.3\n",
    "    reverse_ratio: 0.1-0.3\n",
    "    alpha : 0.6-1.0\n",
    "    '''\n",
    "    generator1 = GeneratorFromStrings(fake_label,count=n_sample,fonts=fonts,size=font_size,blur=blur,\n",
    "                                      random_skew=True,random_blur=True,skewing_angle=1,fit=False,\n",
    "                                      background_type=3, text_color='#e0d7d7,#e0d8d9',\n",
    "                                      image_dir='./pure_black',character_spacing=character_spacing,      \n",
    "                                      stroke_width=0,stroke_fill='#000000',image_mode='RGB',margins=(10,10,10,10))\n",
    "    \n",
    "    double_stat = np.random.binomial(1,p=double_ratio,size=n_sample)\n",
    "    reverse_stat = np.random.binomial(1,p=reverse_ratio,size=n_sample)\n",
    "    back_array = [cv2.imread(f) for f in glob('./background/*.png')]\n",
    "    background = np.random.choice(back_array,n_sample)\n",
    "    \n",
    "    fake_original = {}\n",
    "    for idx,(d_stat,r_stat,back_img,(img,label)) in tqdm(enumerate(zip(double_stat,reverse_stat,background,generator1)),\n",
    "                                                         total=n_sample):\n",
    "        img_array = np.array(img)\n",
    "        if d_stat:\n",
    "            img_array = generate_double(img_array)\n",
    "        elif r_stat:\n",
    "            img_array = cv2.rotate(img_array,cv2.ROTATE_180)\n",
    "        back_img = cv2.resize(back_img,img_array.shape[-2::-1],interpolation=cv2.INTER_NEAREST)\n",
    "        tmp_fake = ( img_array*alpha+ back_img*(1-alpha) ).astype('int') \n",
    "        fake_original[f\"{label}_{idx}\"] = tmp_fake\n",
    "    return fake_original\n",
    "\n",
    "def rec_fake_csc(n_sample=1,\n",
    "                 fonts=['./font/Writes_csc1019.ttf'],\n",
    "                 font_size=50,\n",
    "                 blur=1,\n",
    "                 reverse_ratio=0.1,\n",
    "                 double=False,\n",
    "                 alpha=0.7\n",
    "                ):\n",
    "    \n",
    "    generator_csc = GeneratorFromStrings(fake_original_label,count=n_sample,fonts=fonts,    \n",
    "                                         size=font_size,blur=blur,random_skew=True,random_blur=True,skewing_angle=0,\n",
    "                                         fit=False,background_type=3,text_color='#e0d7d7,#e0d8d9',\n",
    "                                         image_dir='./pure_white/', character_spacing=0,stroke_width=0,\n",
    "                                         stroke_fill='#000000',image_mode='RGB',margins=(0,0,0,0))\n",
    "    \n",
    "    reverse_stat = np.random.binomial(1,p=reverse_ratio,size=n_sample)\n",
    "    back_array = [cv2.imread(f) for f in glob('./background/*.png')]\n",
    "    background = np.random.choice(back_array,n_sample)\n",
    "\n",
    "    fake_original = {}\n",
    "    for idx,(r_stat,back_img,(img,label)) in tqdm(enumerate(zip(reverse_stat,background,generator_csc)),total=n_sample):\n",
    "        img_array = np.array(img)\n",
    "        img_array[img_array<250] = 60\n",
    "        if r_stat:\n",
    "            img_array = cv2.rotate(img_array,cv2.ROTATE_180)\n",
    "        if double:\n",
    "            img_array = generate_double(img_array)\n",
    "        back_img = cv2.resize(back_img,img_array.shape[-2::-1],interpolation=cv2.INTER_NEAREST)\n",
    "        #back_img = np.zeros(img_array.shape,dtype=int)\n",
    "        tmp_fake = ( img_array*alpha+ back_img*(1-alpha) ).astype('int') \n",
    "        \n",
    "        for i in range(1,3):\n",
    "            tmp_fake[:,:,i] = tmp_fake[:,:,0]\n",
    "        \n",
    "        fake_original[f\"{label}_{idx}\"] = tmp_fake\n",
    "    return fake_original\n"
   ]
  },
  {
   "cell_type": "markdown",
   "metadata": {},
   "source": [
    "## Sample demo"
   ]
  },
  {
   "cell_type": "code",
   "execution_count": 39,
   "metadata": {},
   "outputs": [
    {
     "name": "stderr",
     "output_type": "stream",
     "text": [
      "100% 3/3 [00:00<00:00, 107.55it/s]\n"
     ]
    },
    {
     "data": {
      "image/png": "[encoded data removed]",
      "text/plain": [
       "<Figure size 300x150 with 1 Axes>"
      ]
     },
     "metadata": {
      "needs_background": "light"
     },
     "output_type": "display_data"
    },
    {
     "data": {
      "image/png": "[encoded data removed]",
      "text/plain": [
       "<Figure size 300x150 with 1 Axes>"
      ]
     },
     "metadata": {
      "needs_background": "light"
     },
     "output_type": "display_data"
    },
    {
     "data": {
      "image/png": "[encoded data removed]",
      "text/plain": [
       "<Figure size 300x150 with 1 Axes>"
      ]
     },
     "metadata": {
      "needs_background": "light"
     },
     "output_type": "display_data"
    }
   ],
   "source": [
    "f_demo = rec_fake(3,font_size=35,blur=1,character_spacing=1,double_ratio=0.3,reverse_ratio=0.1,alpha=0.6)\n",
    "for _label,_img in f_demo.items():\n",
    "    plt.figure(figsize=(20,10),dpi=15)\n",
    "    plt.imshow(_img)\n",
    "    plt.show()"
   ]
  },
  {
   "cell_type": "markdown",
   "metadata": {},
   "source": [
    "## Generate rec fake data"
   ]
  },
  {
   "cell_type": "code",
   "execution_count": null,
   "metadata": {},
   "outputs": [],
   "source": [
    "f_data1 = rec_fake(6000,font_size=35,blur=1,character_spacing=1,double_ratio=0.3,reverse_ratio=0.1,alpha=0.6)\n",
    "f_data2 = rec_fake(6000,font_size=45,blur=1,character_spacing=3,double_ratio=0.3,reverse_ratio=0.1,alpha=0.5)\n",
    "f_data3 = rec_fake(6000,font_size=55,blur=1,character_spacing=3,double_ratio=0.3,reverse_ratio=0.1,alpha=0.6)\n",
    "f_data4 = rec_fake(6000,font_size=65,blur=1,character_spacing=5,double_ratio=0.3,reverse_ratio=0.1,alpha=0.7)"
   ]
  },
  {
   "cell_type": "code",
   "execution_count": null,
   "metadata": {},
   "outputs": [],
   "source": [
    "csc_data1 = rec_fake_csc(n_sample=6000,font_size=40,blur=1,reverse_ratio=0.2,double=False,alpha=0.9)\n",
    "csc_data2 = rec_fake_csc(n_sample=6000,font_size=45,blur=1,reverse_ratio=0.2,double=False,alpha=0.9)\n",
    "csc_data3 = rec_fake_csc(n_sample=6000,font_size=55,blur=1,reverse_ratio=0.3,double=True ,alpha=0.6)\n",
    "csc_data4 = rec_fake_csc(n_sample=6000,font_size=65,blur=1,reverse_ratio=0.3,double=False,alpha=0.6)"
   ]
  },
  {
   "cell_type": "code",
   "execution_count": 95,
   "metadata": {},
   "outputs": [
    {
     "name": "stderr",
     "output_type": "stream",
     "text": [
      "100% 6000/6000 [00:53<00:00, 112.92it/s]\n",
      "100% 6000/6000 [01:01<00:00, 96.83it/s] \n",
      "100% 6000/6000 [01:07<00:00, 88.53it/s]\n",
      "100% 6000/6000 [01:19<00:00, 75.10it/s]\n"
     ]
    }
   ],
   "source": [
    "hand_data1 = rec_fake(n_sample=6000,fonts=['./font/chfont2.ttf','./font/chfont1.ttf'],font_size=45,blur=1,reverse_ratio=0,double_ratio=0,alpha=0.1)\n",
    "hand_data2 = rec_fake(n_sample=6000,fonts=['./font/chfont2.ttf','./font/chfont1.ttf'],font_size=55,blur=2,reverse_ratio=0,double_ratio=0,alpha=0.12)\n",
    "hand_data3 = rec_fake(n_sample=6000,fonts=['./font/chfont2.ttf','./font/chfont1.ttf'],font_size=60,blur=1,reverse_ratio=0,double_ratio=0,alpha=0.1)\n",
    "hand_data4 = rec_fake(n_sample=6000,fonts=['./font/chfont2.ttf','./font/chfont1.ttf'],font_size=70,blur=1,reverse_ratio=0,double_ratio=0,alpha=0.06)"
   ]
  },
  {
   "cell_type": "code",
   "execution_count": 96,
   "metadata": {},
   "outputs": [
    {
     "name": "stderr",
     "output_type": "stream",
     "text": [
      "100% 6000/6000 [00:04<00:00, 1489.39it/s]\n",
      "100% 6000/6000 [00:05<00:00, 1125.24it/s]\n",
      "100% 6000/6000 [00:06<00:00, 977.43it/s] \n",
      "100% 6000/6000 [00:07<00:00, 807.49it/s]\n"
     ]
    }
   ],
   "source": [
    "label_records = {}\n",
    "\n",
    "idx = 0\n",
    "for _fake in [hand_data1,hand_data2,hand_data3,hand_data4]:\n",
    "    for _label,_img in tqdm(_fake.items(),total=len(_fake)):\n",
    "        for i in range(2):\n",
    "            if i:\n",
    "                _img = cv2.rotate(_img,cv2.ROTATE_180)\n",
    "            idx+=1\n",
    "            fix_label = _label.split('_')[0].replace(' ','').replace('-','')\n",
    "            file_name = f'./rec_fake_dataset/fake2_{idx}_crop{i}.jpg'\n",
    "            label_records[file_name] = fix_label\n",
    "            cv2.imwrite(file_name,_img)"
   ]
  },
  {
   "cell_type": "code",
   "execution_count": 98,
   "metadata": {},
   "outputs": [],
   "source": [
    "with open('rec_fake_label.txt','w') as f:\n",
    "    for _path,_lab in label_records.items():\n",
    "        f.write(f\"{_path}\\t{_lab}\\n\")"
   ]
  }
 ],
 "metadata": {
  "kernelspec": {
   "display_name": "Python 3 (ipykernel)",
   "language": "python",
   "name": "python3"
  },
  "language_info": {
   "codemirror_mode": {
    "name": "ipython",
    "version": 3
   },
   "file_extension": ".py",
   "mimetype": "text/x-python",
   "name": "python",
   "nbconvert_exporter": "python",
   "pygments_lexer": "ipython3",
   "version": "3.7.10"
  }
 },
 "nbformat": 4,
 "nbformat_minor": 4
}