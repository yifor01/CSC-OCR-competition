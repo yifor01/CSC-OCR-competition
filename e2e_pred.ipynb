{
 "cells": [
  {
   "cell_type": "code",
   "execution_count": 1,
   "id": "cc6393b0",
   "metadata": {},
   "outputs": [],
   "source": [
    "import os\n",
    "import cv2\n",
    "import numpy as np\n",
    "import time\n",
    "import yaml\n",
    "from glob import glob\n",
    "from tqdm import tqdm\n",
    "import matplotlib.pyplot as plt\n",
    "\n",
    "import sys\n",
    "sys.path.append(os.path.abspath(os.path.join(os.getcwd(), '../PaddleOCR/')))\n",
    "import tools.infer.utility as utility\n",
    "from ppocr.utils.logging import get_logger\n",
    "from tools.infer.utility import init_args, parse_args\n",
    "from paddleocr import PaddleOCR, draw_ocr\n",
    "\n",
    "from det_pred import TextDetector, mult2point, four_point_transform\n",
    "from rec_pred import Paddlepreditor,yi_merge"
   ]
  },
  {
   "cell_type": "code",
   "execution_count": 2,
   "id": "45ba784a",
   "metadata": {},
   "outputs": [],
   "source": [
    "det_config_path    = \"../PaddleOCR/output/det1104/config.yml\"\n",
    "det_inference_path = '../PaddleOCR/output/det1104/inference'\n",
    "\n",
    "rec_config_path   = \"../PaddleOCR/output/rec1109/config.yml\"\n",
    "rec_pretrain_path = \"../PaddleOCR/output/rec1109/best_accuracy\""
   ]
  },
  {
   "cell_type": "code",
   "execution_count": 3,
   "id": "ec5ffee4",
   "metadata": {},
   "outputs": [],
   "source": [
    "det_args_init = init_args()\n",
    "det_args, unknown = det_args_init.parse_known_args()"
   ]
  },
  {
   "cell_type": "code",
   "execution_count": 4,
   "id": "023a2d20",
   "metadata": {},
   "outputs": [],
   "source": [
    "det_args.det_sast_score_thresh = 0.1\n",
    "det_args.det_sast_nms_thresh   = 0.05\n",
    "det_args.det_model_dir= det_inference_path"
   ]
  },
  {
   "cell_type": "code",
   "execution_count": 5,
   "id": "3cd31e5c",
   "metadata": {},
   "outputs": [
    {
     "data": {
      "text/plain": [
       "CUDAPlace(1)"
      ]
     },
     "execution_count": 5,
     "metadata": {},
     "output_type": "execute_result"
    }
   ],
   "source": [
    "import paddle\n",
    "paddle.set_device(\"gpu:1\")"
   ]
  },
  {
   "cell_type": "markdown",
   "id": "9636ce90",
   "metadata": {},
   "source": [
    "## load model"
   ]
  },
  {
   "cell_type": "code",
   "execution_count": 6,
   "id": "11f79152",
   "metadata": {
    "tags": []
   },
   "outputs": [],
   "source": [
    "text_detector = TextDetector(det_args,det_config_path)"
   ]
  },
  {
   "cell_type": "code",
   "execution_count": 7,
   "id": "abd32aba",
   "metadata": {
    "tags": []
   },
   "outputs": [
    {
     "name": "stdout",
     "output_type": "stream",
     "text": [
      "Namespace(benchmark=False, cls_batch_num=6, cls_image_shape='3, 48, 192', cls_model_dir='/workspace/PaddleOCR/inference/csc_cls_mv3', cls_thresh=0.9, cpu_threads=10, det=True, det_algorithm='DB', det_db_box_thresh=0.03, det_db_score_mode='fast', det_db_thresh=0.3, det_db_unclip_ratio=2, det_east_cover_thresh=0.1, det_east_nms_thresh=0.2, det_east_score_thresh=0.8, det_limit_side_len=960, det_limit_type='max', det_model_dir='/workspace/PaddleOCR/inference/csc_det_db_mv3', det_sast_nms_thresh=0.2, det_sast_polygon=False, det_sast_score_thresh=0.5, drop_score=0.5, e2e_algorithm='PGNet', e2e_char_dict_path='./ppocr/utils/ic15_dict.txt', e2e_limit_side_len=768, e2e_limit_type='max', e2e_model_dir=None, e2e_pgnet_mode='fast', e2e_pgnet_polygon=True, e2e_pgnet_score_thresh=0.5, e2e_pgnet_valid_set='totaltext', enable_mkldnn=False, gpu_mem=500, help='==SUPPRESS==', image_dir=None, ir_optim=True, label_list=['0', '180'], lang='en', layout_path_model='lp://PubLayNet/ppyolov2_r50vd_dcn_365e_publaynet/config', max_batch_size=10, max_text_length=25, min_subgraph_size=15, output='./output/table', precision='fp32', process_id=0, rec=True, rec_algorithm='CRNN', rec_batch_num=6, rec_char_dict_path='/opt/conda/lib/python3.6/site-packages/paddleocr/ppocr/utils/en_dict.txt', rec_char_type='ch', rec_image_shape='3, 32, 320', rec_model_dir='/root/.paddleocr/2.3.0.1/ocr/rec/en/en_number_mobile_v2.0_rec_infer', save_log_path='./log_output/', show_log=False, table_char_dict_path=None, table_char_type='en', table_max_len=488, table_model_dir=None, total_process_num=1, type='ocr', use_angle_cls=True, use_dilation=False, use_gpu=True, use_mp=False, use_pdserving=False, use_space_char=True, use_tensorrt=False, version='PP-OCR', vis_font_path='./doc/fonts/simfang.ttf', warmup=True)\n"
     ]
    }
   ],
   "source": [
    "ocr = PaddleOCR(lang=\"en\",\n",
    "                det_model_dir='../PaddleOCR/inference/det1027',\n",
    "                det_algorithm='DB',\n",
    "                det_db_box_thresh=0.03,\n",
    "                det_db_unclip_ratio=2,\n",
    "                version='PP-OCR',\n",
    "                use_angle_cls=True,\n",
    "                show_log=False,\n",
    "               )"
   ]
  },
  {
   "cell_type": "code",
   "execution_count": 8,
   "id": "bf14f96f",
   "metadata": {
    "tags": []
   },
   "outputs": [],
   "source": [
    "def padding_box(x1,x2,y1,y2,pad_size=0):\n",
    "    points=np.array([[x1-pad_size,y1-pad_size],\n",
    "                     [x2+pad_size,y1-pad_size],\n",
    "                     [x2+pad_size,y2+pad_size],\n",
    "                     [x1-pad_size,y2+pad_size]\n",
    "                    ])\n",
    "    return points"
   ]
  },
  {
   "cell_type": "code",
   "execution_count": 9,
   "id": "82933c40",
   "metadata": {},
   "outputs": [],
   "source": [
    "def det_check(img_path,model='DB'):\n",
    "    img_array = cv2.imread(img_path)\n",
    "    if model=='DB':\n",
    "        points = ocr.ocr(img_array, det=1, cls=0, rec=0)\n",
    "    else:\n",
    "        points, _ = text_detector(img_array)\n",
    "    plt.figure(figsize=(30, 20), dpi=50)\n",
    "    plt.imshow(draw_ocr(img_array,points))\n",
    "    plt.show()\n",
    "    return points\n",
    "\n",
    "def det_pred_v99(img_array,thres=0.85):\n",
    "    #img_array = cv2.imread(img_path)\n",
    "    der_res1 = ocr.ocr(img_array, det=1, cls=0, rec=0)\n",
    "    der_res2, _ = text_detector(img_array)    \n",
    "    cand_points = np.array(der_res1+der_res2.tolist())\n",
    "    avail_points = []\n",
    "    for points in cand_points:\n",
    "        crop_sample = four_point_transform(img_array, points)\n",
    "        new_name = f\"./data/tmp1_fig/test03.jpg\"\n",
    "        cv2.imwrite(new_name,crop_sample)\n",
    "        pred = rec_sol.image_pred(new_name)\n",
    "        if pred[-1]>thres:\n",
    "            avail_points.append(points.tolist())\n",
    "    x1,x2,y1,y2 = np.array(mult2point(avail_points),dtype=int)\n",
    "    return x1,x2,y1,y2"
   ]
  },
  {
   "cell_type": "code",
   "execution_count": 10,
   "id": "a3bd616e",
   "metadata": {},
   "outputs": [
    {
     "name": "stdout",
     "output_type": "stream",
     "text": [
      "[2021/11/15 14:03:58] root INFO: load pretrained model from ['/workspace/PaddleOCR/output/model1109/best_accuracy']\n"
     ]
    }
   ],
   "source": [
    "rec_sol = Paddlepreditor(rec_config_path,rec_pretrain_path)"
   ]
  },
  {
   "cell_type": "markdown",
   "id": "d45ae5b0",
   "metadata": {},
   "source": [
    "## pred"
   ]
  },
  {
   "cell_type": "code",
   "execution_count": 11,
   "id": "859d5d96",
   "metadata": {},
   "outputs": [],
   "source": [
    "import gc\n",
    "from pred_eval import valid_eval2\n",
    "from itertools import combinations\n",
    "from p_tqdm import p_map\n",
    "from functools import partial"
   ]
  },
  {
   "cell_type": "code",
   "execution_count": 12,
   "id": "45c78f47",
   "metadata": {},
   "outputs": [],
   "source": [
    "def single_pred(infer_img_path,pad_range,det_thres=0.8,methods='all',show=False):\n",
    "    if methods=='all':\n",
    "        methods = ['orig','force180','blur','sharpen','bright','contrast','contrast+bright','dilation']\n",
    "    output = {}\n",
    "    _id = infer_img_path.split('/')[-1].replace('.jpg','')\n",
    "    img = cv2.imread(infer_img_path)\n",
    "    point_range = det_pred_v99(img,det_thres)\n",
    "    cand_res = {}\n",
    "    if show:\n",
    "        show_point = padding_box(*point_range,pad_size=0)\n",
    "        show_img = four_point_transform(img, show_point)     \n",
    "        plt.imshow(show_img)\n",
    "        plt.show()\n",
    "    \n",
    "    for pad in pad_range:\n",
    "        det_point = padding_box(*point_range,pad_size=pad)\n",
    "        crop_img = four_point_transform(img, det_point) \n",
    "        new_name = f\"./data/tmp1_fig/{_id}_process3.jpg\"\n",
    "        cv2.imwrite(new_name,crop_img)\n",
    "        single_res = rec_sol.super_image_pred_1105(new_name,methods,show=0)\n",
    "        cand_res.update({f\"pad{pad}_{k}\":v for k,v in single_res.items()})\n",
    "    output[_id] = cand_res\n",
    "    return output"
   ]
  },
  {
   "cell_type": "code",
   "execution_count": 13,
   "id": "deaabd53-46e9-41b1-bd4a-84ace4321e9b",
   "metadata": {},
   "outputs": [
    {
     "data": {
      "image/png": "[encoded data removed]",
      "text/plain": [
       "<Figure size 432x288 with 1 Axes>"
      ]
     },
     "metadata": {
      "needs_background": "light"
     },
     "output_type": "display_data"
    },
    {
     "data": {
      "text/plain": [
       "{'7hHbvk8KzK5hPUXoyDyOXYGSOz8hQN': {'pad0_orig': [('3M5551022W', 0.99655306)],\n",
       "  'pad0_force180': [('3M5551022W', 0.99644315)],\n",
       "  'pad0_blur': [('3M5551022W', 0.98182714)],\n",
       "  'pad0_sharpen': [('3M5551022W', 0.9980499)],\n",
       "  'pad0_bright': [('3M5551022W', 0.9782325)],\n",
       "  'pad0_contrast': [('3M5551022W', 0.9782325)],\n",
       "  'pad0_contrast+bright': [('3M5551022W', 0.9782325)],\n",
       "  'pad0_dilation': [('3M5551022W', 0.992428)]}}"
      ]
     },
     "execution_count": 13,
     "metadata": {},
     "output_type": "execute_result"
    }
   ],
   "source": [
    "file1 = glob(f'./data/private_data/7hHbvk8KzK5hPUXoyDyOXYGSOz8hQN*')[0]\n",
    "\n",
    "single_pred(file1,[0],show=True)"
   ]
  },
  {
   "cell_type": "markdown",
   "id": "cd1f1683-7712-4dfc-bf7e-3074ba404940",
   "metadata": {},
   "source": [
    "# improve"
   ]
  },
  {
   "cell_type": "code",
   "execution_count": 14,
   "id": "20ed306d-1be6-41d5-8a66-be4fa0e06012",
   "metadata": {},
   "outputs": [],
   "source": [
    "def det_pred_fix(img_array,thres=0.7,verbose=False,show=False):\n",
    "    der_res1 = ocr.ocr(img_array, det=1, cls=0, rec=0)\n",
    "    der_res2, _ = text_detector(img_array)    \n",
    "    cand_points = np.array(der_res1+der_res2.tolist())\n",
    "    avail_points = []\n",
    "    for points in cand_points:\n",
    "        crop_sample = four_point_transform(img_array, points)\n",
    "        new_name = f\"./data/tmp1_fig/test03.jpg\"\n",
    "        cv2.imwrite(new_name,crop_sample)\n",
    "        pred = rec_sol.image_pred(new_name)\n",
    "        if (pred[-1]>thres):\n",
    "            avail_points.append(points.tolist())\n",
    "            if show:\n",
    "                plt.imshow(crop_sample)\n",
    "                plt.show()\n",
    "    ymin, ymax = 0,0\n",
    "    \n",
    "    for points in avail_points:\n",
    "        cur_min, cur_max = min([x[1] for x in points]),max([x[1] for x in points])\n",
    "        if cur_min>ymin: ymin=cur_min\n",
    "        if cur_max>ymax: ymax=cur_max\n",
    "    \n",
    "    fix_points = []\n",
    "    for points in avail_points:     \n",
    "        cur_min, cur_max = min([x[1] for x in points]),max([x[1] for x in points])\n",
    "        if (ymin<=cur_min<=ymax) or (ymin<=cur_max<=ymax):\n",
    "            fix_points.append(points)\n",
    "            \n",
    "    x1,x2,y1,y2 = np.array(mult2point(fix_points),dtype=int)\n",
    "    return x1,x2,y1,y2    \n",
    "\n",
    "def single_pred_fix(infer_img_path,pad_range,thres=0.8,methods='all',show=False):\n",
    "    if methods=='all':\n",
    "        methods = ['orig','force180','blur','sharpen','bright','contrast','contrast+bright','dilation']\n",
    "    output = {}\n",
    "    _id = infer_img_path.split('/')[-1].replace('.jpg','')\n",
    "    img = cv2.imread(infer_img_path)\n",
    "    point_range = det_pred_fix(img,thres=thres)\n",
    "    cand_res = {}\n",
    "    if show:\n",
    "        show_point = padding_box(*point_range,pad_size=0)\n",
    "        show_img = four_point_transform(img, show_point)     \n",
    "        plt.imshow(show_img)\n",
    "        plt.show()\n",
    "    \n",
    "    for pad in pad_range:\n",
    "        det_point = padding_box(*point_range,pad_size=pad)\n",
    "        crop_img = four_point_transform(img, det_point) \n",
    "        new_name = f\"./data/tmp1_fig/{_id}_process3.jpg\"\n",
    "        cv2.imwrite(new_name,crop_img)\n",
    "        single_res = rec_sol.super_image_pred_1105(new_name,methods,show=0)\n",
    "        cand_res.update({f\"pad{pad}_{k}\":v for k,v in single_res.items()})\n",
    "    output[_id] = cand_res\n",
    "    return output"
   ]
  },
  {
   "cell_type": "code",
   "execution_count": 15,
   "id": "c1111818-3ffa-4ea6-bd44-91bd818c30f2",
   "metadata": {},
   "outputs": [
    {
     "data": {
      "image/png": "[encoded data removed]",
      "text/plain": [
       "<Figure size 432x288 with 1 Axes>"
      ]
     },
     "metadata": {
      "needs_background": "light"
     },
     "output_type": "display_data"
    },
    {
     "data": {
      "text/plain": [
       "{'7hHbvk8KzK5hPUXoyDyOXYGSOz8hQN': {'pad0_orig': [('3M5551022W', 0.99655306)],\n",
       "  'pad0_force180': [('3M5551022W', 0.99644315)],\n",
       "  'pad0_blur': [('3M5551022W', 0.98182714)],\n",
       "  'pad0_contrast': [('3M5551022W', 0.9782325)]}}"
      ]
     },
     "execution_count": 15,
     "metadata": {},
     "output_type": "execute_result"
    }
   ],
   "source": [
    "single_pred_fix(file1,[0],thres=0.65,methods=['orig','force180','blur','contrast'],show=1)"
   ]
  }
 ],
 "metadata": {
  "kernelspec": {
   "display_name": "Python 3",
   "language": "python",
   "name": "python3"
  },
  "language_info": {
   "codemirror_mode": {
    "name": "ipython",
    "version": 3
   },
   "file_extension": ".py",
   "mimetype": "text/x-python",
   "name": "python",
   "nbconvert_exporter": "python",
   "pygments_lexer": "ipython3",
   "version": "3.6.9"
  }
 },
 "nbformat": 4,
 "nbformat_minor": 5
}